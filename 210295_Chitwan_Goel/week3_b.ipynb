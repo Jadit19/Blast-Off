{
 "cells": [
  {
   "cell_type": "code",
   "execution_count": 8,
   "metadata": {},
   "outputs": [
    {
     "name": "stdout",
     "output_type": "stream",
     "text": [
      "Generation:  1 \tLuck:  3 \tSkill:  95 \tCapability:  98\n",
      "Generation:  2 \tLuck:  5 \tSkill:  94 \tCapability:  99\n",
      "Generation:  3 \tLuck:  5 \tSkill:  94 \tCapability:  99\n",
      "Generation:  4 \tLuck:  5 \tSkill:  95 \tCapability:  100\n"
     ]
    }
   ],
   "source": [
    "import random\n",
    "\n",
    "Population_size = 100\n",
    "\n",
    "class Individual(object):\n",
    "    def __init__(self , luck , skill) -> None:\n",
    "        self.luck = luck\n",
    "        self.skill = skill\n",
    "        self.capability = self.cal_capability()\n",
    "    \n",
    "    def luck_func():\n",
    "        return random.randint(0,5)\n",
    "\n",
    "    def skill_func():\n",
    "        return random.randint(0,95)\n",
    "\n",
    "    def mate(self,par2):\n",
    "        prob = random.random()\n",
    "        luck = 0\n",
    "        skill = 0\n",
    "        if prob<0.45:\n",
    "            luck = self.luck\n",
    "            skill = par2.skill\n",
    "        elif prob<0.90:\n",
    "            luck = par2.luck\n",
    "            skill = self.skill\n",
    "        else:\n",
    "            if(par2.luck<self.luck):\n",
    "                luck = random.randint(par2.luck,self.luck)\n",
    "            else:\n",
    "                luck = random.randint(self.luck,par2.luck)\n",
    "            if(self.skill<par2.skill):\n",
    "                skill = random.randint(self.skill , par2.skill)\n",
    "            else:\n",
    "                skill = random.randint(par2.skill , self.skill)\n",
    "        return Individual(luck,skill)\n",
    "\n",
    "    def cal_capability(self):\n",
    "        fitness = 95-self.skill+5-self.luck\n",
    "        return fitness\n",
    "    \n",
    "def main():\n",
    "    global Population_size\n",
    "    generation = 1\n",
    "    found = False\n",
    "    population = []\n",
    "    for _ in range(Population_size):\n",
    "        a = Individual.luck_func()\n",
    "        b = Individual.skill_func()\n",
    "        population.append(Individual(a,b))\n",
    "    while not found and generation<100:\n",
    "        population = sorted(population , key = lambda x:x.capability)\n",
    "        if population[0].capability <= 0:\n",
    "            found = True\n",
    "            break\n",
    "        new_generation = []\n",
    "        s = int((10*Population_size)/100)\n",
    "        new_generation.extend(population[:s])\n",
    "\n",
    "        s = int((90*Population_size)/100)\n",
    "        for _ in range(s):\n",
    "            parent1 = random.choice(population[:50])\n",
    "            parent2 = random.choice(population[:50])\n",
    "            child = parent1.mate(parent2)\n",
    "            new_generation.append(child)\n",
    "\n",
    "        population = new_generation\n",
    "        print(\"Generation: \" , generation , \"\\tLuck: \" , population[0].luck , \"\\tSkill: \" , population[0].skill , \"\\tCapability: \" , 100-population[0].capability)\n",
    " \n",
    "        generation += 1\n",
    "\n",
    "    print(\"Generation: \" , generation , \"\\tLuck: \" , population[0].luck , \"\\tSkill: \" , population[0].skill , \"\\tCapability: \" , 100-population[0].capability)\n",
    "\n",
    "if __name__ == '__main__':\n",
    "    main()"
   ]
  }
 ],
 "metadata": {
  "kernelspec": {
   "display_name": "Python 3.10.4 64-bit",
   "language": "python",
   "name": "python3"
  },
  "language_info": {
   "codemirror_mode": {
    "name": "ipython",
    "version": 3
   },
   "file_extension": ".py",
   "mimetype": "text/x-python",
   "name": "python",
   "nbconvert_exporter": "python",
   "pygments_lexer": "ipython3",
   "version": "3.10.4"
  },
  "orig_nbformat": 4,
  "vscode": {
   "interpreter": {
    "hash": "ab3583470d654f0d0b99ab2da4f16605a929572332a906f73d588dc6ba652d01"
   }
  }
 },
 "nbformat": 4,
 "nbformat_minor": 2
}
